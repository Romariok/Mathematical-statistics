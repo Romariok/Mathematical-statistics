{
 "cells": [
  {
   "cell_type": "code",
   "execution_count": 73,
   "metadata": {},
   "outputs": [],
   "source": [
    "import numpy as np;\n",
    "import pandas as pd;\n",
    "import matplotlib.pyplot as plt"
   ]
  },
  {
   "cell_type": "code",
   "execution_count": null,
   "metadata": {},
   "outputs": [],
   "source": []
  },
  {
   "cell_type": "code",
   "execution_count": 74,
   "metadata": {},
   "outputs": [
    {
     "data": {
      "text/plain": [
       "array([-1.006,  0.386, -1.223, -0.591, -0.345,  0.157,  0.8  , -0.155,\n",
       "       -0.379, -1.023,  1.306, -0.861,  0.303,  0.518,  0.986,  0.788,\n",
       "        0.883, -0.098, -0.242,  1.701,  1.199, -1.23 , -0.73 , -1.492,\n",
       "        0.643, -0.577, -0.224,  0.997, -1.165, -0.494, -2.577,  2.641,\n",
       "       -1.143, -0.086,  2.919,  0.527,  0.297,  0.434,  0.756,  0.172,\n",
       "       -2.086, -0.904, -1.413, -0.012, -1.248,  1.671, -0.521, -0.025,\n",
       "        1.164,  0.354,  0.866, -0.005,  0.403,  1.908,  0.448,  0.169,\n",
       "       -0.731, -1.189,  0.905,  0.283,  2.431,  1.409,  0.191, -0.165,\n",
       "        0.889,  0.804, -2.131, -0.754,  1.458,  1.65 ,  0.026,  0.885,\n",
       "        0.011, -0.99 , -0.104,  0.174, -0.052, -0.182,  1.813,  0.346,\n",
       "        0.11 ,  1.757, -0.693, -0.732,  1.073, -1.724, -1.81 ,  0.947,\n",
       "       -1.118,  0.666,  0.97 ,  1.14 , -1.105,  0.894,  1.547, -0.484,\n",
       "       -0.086, -0.066,  0.15 , -0.264])"
      ]
     },
     "execution_count": 74,
     "metadata": {},
     "output_type": "execute_result"
    }
   ],
   "source": [
    "data= np.loadtxt(\"data.txt\",dtype=float);\n",
    "data"
   ]
  },
  {
   "cell_type": "markdown",
   "metadata": {},
   "source": [
    "<h1>Статиcтический ряд</h1>"
   ]
  },
  {
   "cell_type": "code",
   "execution_count": 75,
   "metadata": {},
   "outputs": [
    {
     "name": "stdout",
     "output_type": "stream",
     "text": [
      "Минимальное значение: -2.577\n",
      "максимальное значение: 2.919\n",
      "Шаг: 0.5\n"
     ]
    }
   ],
   "source": [
    "print(f\"Минимальное значение: {data.min()}\")\n",
    "print(f\"максимальное значение: {data.max()}\")\n",
    "h=(data.max()-data.min())/12\n",
    "h = h.round(1)\n",
    "print(f\"Шаг: {h}\")"
   ]
  },
  {
   "cell_type": "code",
   "execution_count": 76,
   "metadata": {},
   "outputs": [
    {
     "name": "stdout",
     "output_type": "stream",
     "text": [
      "Начало: -2.59, Конец: -2.09\t Середина: -2.34 \t Частота интервалов:2\n",
      "Относительная частота: 0.02\n",
      "\n",
      "\n",
      "Начало: -2.09, Конец: -1.59\t Середина: -1.8399999999999999 \t Частота интервалов:3\n",
      "Относительная частота: 0.03\n",
      "\n",
      "\n",
      "Начало: -1.59, Конец: -1.09\t Середина: -1.34 \t Частота интервалов:10\n",
      "Относительная частота: 0.1\n",
      "\n",
      "\n",
      "Начало: -1.09, Конец: -0.59\t Середина: -0.8400000000000001 \t Частота интервалов:11\n",
      "Относительная частота: 0.11\n",
      "\n",
      "\n",
      "Начало: -0.59, Конец: -0.09\t Середина: -0.33999999999999997 \t Частота интервалов:14\n",
      "Относительная частота: 0.14\n",
      "\n",
      "\n",
      "Начало: -0.09, Конец: 0.41\t Середина: 0.16 \t Частота интервалов:23\n",
      "Относительная частота: 0.23\n",
      "\n",
      "\n",
      "Начало: 0.41, Конец: 0.91\t Середина: 0.6599999999999999 \t Частота интервалов:16\n",
      "Относительная частота: 0.16\n",
      "\n",
      "\n",
      "Начало: 0.91, Конец: 1.41\t Середина: 1.16 \t Частота интервалов:10\n",
      "Относительная частота: 0.1\n",
      "\n",
      "\n",
      "Начало: 1.41, Конец: 1.91\t Середина: 1.66 \t Частота интервалов:8\n",
      "Относительная частота: 0.08\n",
      "\n",
      "\n",
      "Начало: 1.91, Конец: 2.41\t Середина: 2.16 \t Частота интервалов:0\n",
      "Относительная частота: 0.0\n",
      "\n",
      "\n",
      "Начало: 2.41, Конец: 2.91\t Середина: 2.66 \t Частота интервалов:2\n",
      "Относительная частота: 0.02\n",
      "\n",
      "\n",
      "Начало: 2.91, Конец: 3.41\t Середина: 3.16 \t Частота интервалов:1\n",
      "Относительная частота: 0.01\n",
      "\n",
      "\n"
     ]
    },
    {
     "data": {
      "text/plain": [
       "[[-2.59, -2.09, 0.04, -2.34],\n",
       " [-2.09, -1.59, 0.06, -1.8399999999999999],\n",
       " [-1.59, -1.09, 0.2, -1.34],\n",
       " [-1.09, -0.59, 0.22, -0.8400000000000001],\n",
       " [-0.59, -0.09, 0.28, -0.33999999999999997],\n",
       " [-0.09, 0.41, 0.46, 0.15999999999999998],\n",
       " [0.41, 0.91, 0.32, 0.66],\n",
       " [0.91, 1.41, 0.2, 1.16],\n",
       " [1.41, 1.91, 0.16, 1.66],\n",
       " [1.91, 2.41, 0.0, 2.16],\n",
       " [2.41, 2.91, 0.04, 2.66],\n",
       " [2.91, 3.41, 0.02, 3.16]]"
      ]
     },
     "execution_count": 76,
     "metadata": {},
     "output_type": "execute_result"
    }
   ],
   "source": [
    "a = -2.59\n",
    "b = 3.41\n",
    "count=1\n",
    "summ1 = 0\n",
    "summ2=0\n",
    "\n",
    "df = pd.DataFrame()\n",
    "\n",
    "data_interval=[]\n",
    "for i in range(12):\n",
    "   bound1 = a + i * h\n",
    "   bound2 = a + (i+1) * h\n",
    "   bound1 = bound1.round(2)\n",
    "   bound2=bound2.round(2)\n",
    "   count_interval = np.count_nonzero((data >= bound1) & (data < bound2))\n",
    "   summ1+=count_interval\n",
    "   print(f\"Начало: {bound1}, Конец: {bound2}\\t Середина: {(bound2-bound1)/2+bound1} \\t Частота интервалов:{count_interval}\")\n",
    "   print(f\"Относительная частота: {count_interval/100}\")\n",
    "   print(\"\\n\")\n",
    "   summ2+=count_interval/100\n",
    "   data_interval.append([bound1,bound2,(count_interval/100)/h,(bound2+bound1)/2])\n",
    "   df[f\"{count}\"]=[f\"({bound1},{bound2})\",(bound2+bound1)/2, count_interval,count_interval/100]\n",
    "   count+=1\n",
    "df[\"Примечания\"]=[\"NaN\",\"NaN\",summ1,summ2]\n",
    "df\n",
    "data_interval"
   ]
  },
  {
   "cell_type": "markdown",
   "metadata": {},
   "source": [
    "<h1>Гистограмма</h1>"
   ]
  },
  {
   "cell_type": "code",
   "execution_count": 77,
   "metadata": {},
   "outputs": [
    {
     "data": {
      "image/png": "[encoded data removed]",
      "text/plain": [
       "<Figure size 640x480 with 1 Axes>"
      ]
     },
     "metadata": {},
     "output_type": "display_data"
    }
   ],
   "source": [
    "# Извлечение значений для осей x, y и высоты столбцов\n",
    "x = [interval[0] for interval in data_interval]\n",
    "\n",
    "heights = [interval[2] for interval in data_interval]\n",
    "\n",
    "# Построение гистограммы\n",
    "plt.bar(x, heights, width=h,align='edge')\n",
    "\n",
    "plt.grid(True)\n",
    "plt.xticks(x)\n",
    "plt.yticks(heights)\n",
    "\n",
    "# Установка подписей осей и заголовка\n",
    "plt.xlabel('Начало интервала')\n",
    "plt.ylabel('Высота столбцов')\n",
    "plt.title('Гистограмма')\n",
    "\n",
    "# Отображение графика\n",
    "plt.show()\n"
   ]
  },
  {
   "cell_type": "markdown",
   "metadata": {},
   "source": [
    "<h1>Статиcтическая функция распределения<h1>"
   ]
  },
  {
   "cell_type": "code",
   "execution_count": 78,
   "metadata": {},
   "outputs": [
    {
     "data": {
      "image/png": "[encoded data removed]",
      "text/plain": [
       "<Figure size 640x480 with 1 Axes>"
      ]
     },
     "metadata": {},
     "output_type": "display_data"
    }
   ],
   "source": [
    "# Извлечение значений, для которых нужно построить ЭФР\n",
    "x = [interval[3] for interval in data_interval]\n",
    "\n",
    "# Сортировка значений\n",
    "x_sorted = np.sort(x)\n",
    "\n",
    "# Вычисление вероятностей\n",
    "n = len(x_sorted)\n",
    "probabilities = np.arange(1, n+1) / n\n",
    "\n",
    "\n",
    "\n",
    "plt.grid(which='both')\n",
    "plt.xticks(x)\n",
    "plt.yticks(probabilities)\n",
    "\n",
    "# Построение графика\n",
    "plt.step(x_sorted, probabilities, where='post')\n",
    "\n",
    "# Установка подписей осей и заголовка\n",
    "plt.xlabel('Значение x')\n",
    "plt.ylabel('Эмпирическая функция распределения')\n",
    "plt.title('Эмпирическая функция распределения')\n",
    "\n",
    "# Отображение графика\n",
    "plt.show()"
   ]
  },
  {
   "cell_type": "markdown",
   "metadata": {},
   "source": [
    "<h1>Точечные оценки математического ожидания и дисперсии</h1>\n"
   ]
  },
  {
   "cell_type": "markdown",
   "metadata": {},
   "source": [
    "#### Точечной оценкой математического ожидания является выборочное среднее: $\\overline{m}$"
   ]
  },
  {
   "cell_type": "code",
   "execution_count": 79,
   "metadata": {},
   "outputs": [
    {
     "name": "stdout",
     "output_type": "stream",
     "text": [
      "Точечная оценка мат. ожидания: 0.117\n"
     ]
    }
   ],
   "source": [
    "M = np.average(data)\n",
    "print(\"Точечная оценка мат. ожидания: \"+str(M.round(3)))"
   ]
  },
  {
   "cell_type": "markdown",
   "metadata": {},
   "source": [
    "#### Точечная выборочная оценка дисперсии (смещённая): $\\={D} =\\sum_{i=1}^{12} (x_{i}^2 * p_i^{*}) - \\=m^2$"
   ]
  },
  {
   "cell_type": "code",
   "execution_count": 80,
   "metadata": {},
   "outputs": [
    {
     "name": "stdout",
     "output_type": "stream",
     "text": [
      "Смещённая оценка дисперсии: 2.299\n"
     ]
    }
   ],
   "source": [
    "D_bad = sum([x[2]*x[3]**2 for x in data_interval])-M**2 #x[2] это относительные частоты p_{i}^{*}, x[3] это середина интервала\n",
    "print(\"Смещённая оценка дисперсии: \"+str(D_bad.round(3)))"
   ]
  },
  {
   "cell_type": "markdown",
   "metadata": {},
   "source": [
    "#### Точечная несмещённая оценка дисперссии: $\\~D = \\frac{12}{12-1} \\=D$"
   ]
  },
  {
   "cell_type": "code",
   "execution_count": 81,
   "metadata": {},
   "outputs": [
    {
     "name": "stdout",
     "output_type": "stream",
     "text": [
      "Несмещённая оценка дисперсии: 2.508\n"
     ]
    }
   ],
   "source": [
    "D = 12/11*D_bad\n",
    "print(\"Несмещённая оценка дисперсии: \"+str(D.round(3)))"
   ]
  },
  {
   "cell_type": "markdown",
   "metadata": {},
   "source": [
    "## Доверительные интервалы для мат. ожидания и дисперсии при доверительной вероятности $\\alpha = 0.95$"
   ]
  },
  {
   "cell_type": "markdown",
   "metadata": {},
   "source": [
    "#### Доверительный интервал для мат. ожидания"
   ]
  },
  {
   "cell_type": "markdown",
   "metadata": {},
   "source": [
    "Доверительный интервал имеет вид: $M \\in \\bigg(\\=m-t_{n-1,\\beta}\\frac{\\sqrt{\\~D}}{\\sqrt{n}},\\=m+t_{n-1,\\beta}\\frac{\\sqrt{\\~D}}{\\sqrt{n}}\\bigg)$,"
   ]
  },
  {
   "cell_type": "markdown",
   "metadata": {},
   "source": [
    "где n = 12; $\\beta = 1-\\alpha = 0.05$ - уровень значимости; $\\=m$ и $\\~D$ - найденные ранее точечные оценки мат. ожидания и дисперсии соответственно."
   ]
  },
  {
   "cell_type": "markdown",
   "metadata": {},
   "source": [
    "Находим по таблице распределения Стьюдента значение $t_{11,\\beta = 0.05} = 2.2$ "
   ]
  },
  {
   "cell_type": "code",
   "execution_count": 82,
   "metadata": {},
   "outputs": [
    {
     "name": "stdout",
     "output_type": "stream",
     "text": [
      "m принадлежит (-0.889,1.123) с вероятностью 0.95\n"
     ]
    }
   ],
   "source": [
    "delta = 2.2*np.sqrt(D)/np.sqrt(12)\n",
    "print(f\"m принадлежит ({(M-delta).round(3)},{(M+delta).round(3)}) с вероятностью 0.95\")"
   ]
  },
  {
   "cell_type": "markdown",
   "metadata": {},
   "source": [
    "#### Доверительный интервал для дисперсии"
   ]
  },
  {
   "cell_type": "markdown",
   "metadata": {},
   "source": [
    "Доверительный интервал имеет вид: $\\sigma^2 \\in \\bigg( \\frac{(n-1)S^2}{\\chi^2_{\\frac{\\alpha}{2}, n-1}}, \\frac{(n-1)S^2}{\\chi^2_{1-\\frac{\\alpha}{2}, n-1}}\\bigg)$"
   ]
  },
  {
   "cell_type": "markdown",
   "metadata": {},
   "source": [
    "$\\chi^2_{\\frac{0.05}{2},11} = 21.9$\\\n",
    "$\\chi^2_{1-\\frac{0.05}{2},11} = 3.82$\\\n",
    "$S^2$ - наше $\\~D$"
   ]
  },
  {
   "cell_type": "code",
   "execution_count": 83,
   "metadata": {},
   "outputs": [
    {
     "name": "stdout",
     "output_type": "stream",
     "text": [
      "Доверительний интервал для дисперсии: (1.26,7.222)\n"
     ]
    }
   ],
   "source": [
    "multdelta = 11*D\n",
    "print(f\"Доверительний интервал для дисперсии: ({(multdelta/21.9).round(3)},{(multdelta/3.82).round(3)})\")"
   ]
  }
 ],
 "metadata": {
  "kernelspec": {
   "display_name": "Python 3",
   "language": "python",
   "name": "python3"
  },
  "language_info": {
   "codemirror_mode": {
    "name": "ipython",
    "version": 3
   },
   "file_extension": ".py",
   "mimetype": "text/x-python",
   "name": "python",
   "nbconvert_exporter": "python",
   "pygments_lexer": "ipython3",
   "version": "3.10.11"
  }
 },
 "nbformat": 4,
 "nbformat_minor": 2
}
