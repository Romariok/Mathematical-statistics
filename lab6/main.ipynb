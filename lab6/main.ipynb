{
 "cells": [
  {
   "cell_type": "markdown",
   "metadata": {},
   "source": [
    "### Часть 1 (Кобелев Роман)"
   ]
  },
  {
   "cell_type": "code",
   "execution_count": 5,
   "metadata": {},
   "outputs": [],
   "source": [
    "import numpy as np\n",
    "import pandas as pd\n",
    "import matplotlib.pyplot as plt"
   ]
  },
  {
   "cell_type": "code",
   "execution_count": 6,
   "metadata": {},
   "outputs": [
    {
     "name": "stdout",
     "output_type": "stream",
     "text": [
      "n = 200\n"
     ]
    }
   ],
   "source": [
    "x= np.loadtxt(\"data_x.txt\",dtype=int)\n",
    "y= np.loadtxt(\"data_y.txt\",dtype=int)\n",
    "data = np.loadtxt(\"data.txt\",dtype=int)\n",
    "n = sum(sum(data))\n",
    "print(f\"n = {n}\")"
   ]
  },
  {
   "cell_type": "code",
   "execution_count": 7,
   "metadata": {},
   "outputs": [
    {
     "data": {
      "text/html": [
       "<div>\n",
       "<style scoped>\n",
       "    .dataframe tbody tr th:only-of-type {\n",
       "        vertical-align: middle;\n",
       "    }\n",
       "\n",
       "    .dataframe tbody tr th {\n",
       "        vertical-align: top;\n",
       "    }\n",
       "\n",
       "    .dataframe thead th {\n",
       "        text-align: right;\n",
       "    }\n",
       "</style>\n",
       "<table border=\"1\" class=\"dataframe\">\n",
       "  <thead>\n",
       "    <tr style=\"text-align: right;\">\n",
       "      <th></th>\n",
       "      <th>15</th>\n",
       "      <th>25</th>\n",
       "      <th>30</th>\n",
       "      <th>35</th>\n",
       "    </tr>\n",
       "  </thead>\n",
       "  <tbody>\n",
       "    <tr>\n",
       "      <th>10</th>\n",
       "      <td>15</td>\n",
       "      <td>0</td>\n",
       "      <td>0</td>\n",
       "      <td>0</td>\n",
       "    </tr>\n",
       "    <tr>\n",
       "      <th>20</th>\n",
       "      <td>10</td>\n",
       "      <td>80</td>\n",
       "      <td>30</td>\n",
       "      <td>0</td>\n",
       "    </tr>\n",
       "    <tr>\n",
       "      <th>30</th>\n",
       "      <td>0</td>\n",
       "      <td>0</td>\n",
       "      <td>45</td>\n",
       "      <td>20</td>\n",
       "    </tr>\n",
       "  </tbody>\n",
       "</table>\n",
       "</div>"
      ],
      "text/plain": [
       "    15  25  30  35\n",
       "10  15   0   0   0\n",
       "20  10  80  30   0\n",
       "30   0   0  45  20"
      ]
     },
     "execution_count": 7,
     "metadata": {},
     "output_type": "execute_result"
    }
   ],
   "source": [
    "df = pd.DataFrame(data, columns=[y[0], y[1], y[2], y[3]])\n",
    "df.set_index(x, inplace=True)\n",
    "\n",
    "df"
   ]
  },
  {
   "cell_type": "code",
   "execution_count": 8,
   "metadata": {},
   "outputs": [
    {
     "data": {
      "text/html": [
       "<div>\n",
       "<style scoped>\n",
       "    .dataframe tbody tr th:only-of-type {\n",
       "        vertical-align: middle;\n",
       "    }\n",
       "\n",
       "    .dataframe tbody tr th {\n",
       "        vertical-align: top;\n",
       "    }\n",
       "\n",
       "    .dataframe thead th {\n",
       "        text-align: right;\n",
       "    }\n",
       "</style>\n",
       "<table border=\"1\" class=\"dataframe\">\n",
       "  <thead>\n",
       "    <tr style=\"text-align: right;\">\n",
       "      <th></th>\n",
       "      <th>15</th>\n",
       "      <th>25</th>\n",
       "      <th>30</th>\n",
       "      <th>35</th>\n",
       "      <th>P(x=xi*)</th>\n",
       "    </tr>\n",
       "  </thead>\n",
       "  <tbody>\n",
       "    <tr>\n",
       "      <th>10</th>\n",
       "      <td>0.075</td>\n",
       "      <td>0.0</td>\n",
       "      <td>0.000</td>\n",
       "      <td>0.0</td>\n",
       "      <td>0.075</td>\n",
       "    </tr>\n",
       "    <tr>\n",
       "      <th>20</th>\n",
       "      <td>0.050</td>\n",
       "      <td>0.4</td>\n",
       "      <td>0.150</td>\n",
       "      <td>0.0</td>\n",
       "      <td>0.600</td>\n",
       "    </tr>\n",
       "    <tr>\n",
       "      <th>30</th>\n",
       "      <td>0.000</td>\n",
       "      <td>0.0</td>\n",
       "      <td>0.225</td>\n",
       "      <td>0.1</td>\n",
       "      <td>0.325</td>\n",
       "    </tr>\n",
       "    <tr>\n",
       "      <th>qj*</th>\n",
       "      <td>0.125</td>\n",
       "      <td>0.4</td>\n",
       "      <td>0.375</td>\n",
       "      <td>0.1</td>\n",
       "      <td>1.000</td>\n",
       "    </tr>\n",
       "  </tbody>\n",
       "</table>\n",
       "</div>"
      ],
      "text/plain": [
       "        15   25     30   35  P(x=xi*)\n",
       "10   0.075  0.0  0.000  0.0     0.075\n",
       "20   0.050  0.4  0.150  0.0     0.600\n",
       "30   0.000  0.0  0.225  0.1     0.325\n",
       "qj*  0.125  0.4  0.375  0.1     1.000"
      ]
     },
     "execution_count": 8,
     "metadata": {},
     "output_type": "execute_result"
    }
   ],
   "source": [
    "df_new = df.div(n)\n",
    "df_new['P(x=xi*)'] = df_new.sum(axis=1)\n",
    "df_new.loc['qj*'] = df_new.sum(axis=0)\n",
    "df_new"
   ]
  },
  {
   "cell_type": "markdown",
   "metadata": {},
   "source": [
    "$\\widetilde{M}(x) = \\sum_{i=1}^n (x_i^*)p_i^*$\n",
    "\n",
    "$\\widetilde{D}(x) = \\sum_{i=1}^n (x_i^*)^2p_i^* - (\\widetilde{M}(x))^2$\n",
    "\n",
    "$\\widetilde{M}(y) = \\sum_{j=1}^m (y_j^*)q_j^*$\n",
    "\n",
    "$\\widetilde{D}(y) = \\sum_{j=1}^m (y_j^*)^2q_j^* - (\\widetilde{M}(y))^2$"
   ]
  },
  {
   "cell_type": "code",
   "execution_count": 9,
   "metadata": {},
   "outputs": [
    {
     "name": "stdout",
     "output_type": "stream",
     "text": [
      "m_x = 22.5, d_x = 33.75, sigma_x = 5.81 m_y = 26.625, d_y = 29.234375, sigma_y = 5.41\n"
     ]
    }
   ],
   "source": [
    "m_x = sum(index * row['P(x=xi*)'] if index != \"qj*\" else 0 for index, row in df_new.iterrows())\n",
    "d_x = sum(index**2 * row['P(x=xi*)'] if index != \"qj*\" else 0 for index, row in df_new.iterrows()) - m_x**2\n",
    "sigma_x = np.sqrt(d_x)\n",
    "m_y = sum(column * df_new[column].iloc[-1] if column != \"P(x=xi*)\" else 0 for column in df_new.columns)\n",
    "d_y = sum(column**2 * df_new[column].iloc[-1] if column != \"P(x=xi*)\" else 0 for column in df_new.columns) - m_y**2\n",
    "sigma_y = np.sqrt(d_y)\n",
    "   \n",
    "print(f\"m_x = {m_x}, d_x = {d_x}, sigma_x = {sigma_x:.3} m_y = {m_y}, d_y = {d_y}, sigma_y = {sigma_y:.3}\")"
   ]
  },
  {
   "cell_type": "markdown",
   "metadata": {},
   "source": [
    "$\\overline{k(x,y)} = \\overline{cov(x, y)} = \\sum_{i=1}^n\\sum_{j=1}^m x_i^*y_j^*p_i^* - \\widetilde{M}(x)\\widetilde{M}(y)$"
   ]
  },
  {
   "cell_type": "code",
   "execution_count": 10,
   "metadata": {},
   "outputs": [
    {
     "data": {
      "text/plain": [
       "24.6875"
      ]
     },
     "execution_count": 10,
     "metadata": {},
     "output_type": "execute_result"
    }
   ],
   "source": [
    "k = sum((index) * (column) * row[column] if index != \"qj*\" and column != \"P(x=xi*)\" else 0 for column in df_new.columns for index, row in df_new.iterrows()) - m_x * m_y\n",
    "k"
   ]
  },
  {
   "cell_type": "markdown",
   "metadata": {},
   "source": [
    "$\\widetilde{r_{xy}} = \\cfrac{\\widetilde{k(x,y)}}{\\widetilde{\\sigma}(x)\\widetilde{\\sigma}(y)}$"
   ]
  },
  {
   "cell_type": "code",
   "execution_count": 11,
   "metadata": {},
   "outputs": [
    {
     "name": "stdout",
     "output_type": "stream",
     "text": [
      "r = 0.786\n"
     ]
    }
   ],
   "source": [
    "r = k / (sigma_x * sigma_y)\n",
    "print(f\"r = {r:.3}\")"
   ]
  },
  {
   "cell_type": "markdown",
   "metadata": {},
   "source": [
    "### Часть 2 (Балин Артем)"
   ]
  },
  {
   "cell_type": "markdown",
   "metadata": {},
   "source": [
    "Чтобы построить зависимость условного математического ожидания константы $y$ от значений компонент $x$, нужно найти значения математических ожиданий из условных рядов распределения"
   ]
  },
  {
   "cell_type": "code",
   "execution_count": 12,
   "metadata": {},
   "outputs": [
    {
     "data": {
      "text/html": [
       "<div>\n",
       "<style scoped>\n",
       "    .dataframe tbody tr th:only-of-type {\n",
       "        vertical-align: middle;\n",
       "    }\n",
       "\n",
       "    .dataframe tbody tr th {\n",
       "        vertical-align: top;\n",
       "    }\n",
       "\n",
       "    .dataframe thead th {\n",
       "        text-align: right;\n",
       "    }\n",
       "</style>\n",
       "<table border=\"1\" class=\"dataframe\">\n",
       "  <thead>\n",
       "    <tr style=\"text-align: right;\">\n",
       "      <th></th>\n",
       "      <th>15</th>\n",
       "      <th>25</th>\n",
       "      <th>30</th>\n",
       "      <th>35</th>\n",
       "    </tr>\n",
       "  </thead>\n",
       "  <tbody>\n",
       "    <tr>\n",
       "      <th>P(y=y_i|x=10)</th>\n",
       "      <td>1.000000</td>\n",
       "      <td>0.000000</td>\n",
       "      <td>0.000000</td>\n",
       "      <td>0.000000</td>\n",
       "    </tr>\n",
       "    <tr>\n",
       "      <th>P(y=y_i|x=20)</th>\n",
       "      <td>0.083333</td>\n",
       "      <td>0.666667</td>\n",
       "      <td>0.250000</td>\n",
       "      <td>0.000000</td>\n",
       "    </tr>\n",
       "    <tr>\n",
       "      <th>P(y=y_i|x=30)</th>\n",
       "      <td>0.000000</td>\n",
       "      <td>0.000000</td>\n",
       "      <td>0.692308</td>\n",
       "      <td>0.307692</td>\n",
       "    </tr>\n",
       "  </tbody>\n",
       "</table>\n",
       "</div>"
      ],
      "text/plain": [
       "                     15        25        30        35\n",
       "P(y=y_i|x=10)  1.000000  0.000000  0.000000  0.000000\n",
       "P(y=y_i|x=20)  0.083333  0.666667  0.250000  0.000000\n",
       "P(y=y_i|x=30)  0.000000  0.000000  0.692308  0.307692"
      ]
     },
     "execution_count": 12,
     "metadata": {},
     "output_type": "execute_result"
    }
   ],
   "source": [
    "relative_data_y = []\n",
    "for i in range(len(x)):\n",
    "    row_in_relative = []\n",
    "    for j in range(len(y)):\n",
    "        x_current = x[i]\n",
    "        y_current = y[j]\n",
    "        row_in_relative.append(df_new[y_current][x_current]/df_new['P(x=xi*)'][x_current])\n",
    "    relative_data_y.append(row_in_relative)\n",
    "relative_y_index = [f\"P(y=y_i|x={x_i})\" for x_i in x]\n",
    "relative_y = pd.DataFrame(relative_data_y,columns=[y_i for y_i in y])\n",
    "relative_y.index = relative_y_index\n",
    "relative_y"
   ]
  },
  {
   "cell_type": "markdown",
   "metadata": {},
   "source": [
    "Теперь построим таблицу условных математических ожиданий $y$ при различных значениях $x$:"
   ]
  },
  {
   "cell_type": "code",
   "execution_count": 48,
   "metadata": {},
   "outputs": [
    {
     "data": {
      "text/html": [
       "<div>\n",
       "<style scoped>\n",
       "    .dataframe tbody tr th:only-of-type {\n",
       "        vertical-align: middle;\n",
       "    }\n",
       "\n",
       "    .dataframe tbody tr th {\n",
       "        vertical-align: top;\n",
       "    }\n",
       "\n",
       "    .dataframe thead th {\n",
       "        text-align: right;\n",
       "    }\n",
       "</style>\n",
       "<table border=\"1\" class=\"dataframe\">\n",
       "  <thead>\n",
       "    <tr style=\"text-align: right;\">\n",
       "      <th></th>\n",
       "      <th>10</th>\n",
       "      <th>20</th>\n",
       "      <th>30</th>\n",
       "    </tr>\n",
       "  </thead>\n",
       "  <tbody>\n",
       "    <tr>\n",
       "      <th>M(y|x=x_i)</th>\n",
       "      <td>15.0</td>\n",
       "      <td>25.416667</td>\n",
       "      <td>31.538462</td>\n",
       "    </tr>\n",
       "  </tbody>\n",
       "</table>\n",
       "</div>"
      ],
      "text/plain": [
       "              10         20         30\n",
       "M(y|x=x_i)  15.0  25.416667  31.538462"
      ]
     },
     "execution_count": 48,
     "metadata": {},
     "output_type": "execute_result"
    }
   ],
   "source": [
    "relative_means_y = []\n",
    "for row in relative_data_y:\n",
    "    relative_means_y.append([sum(row[i]*y[i] for i in range(len(y)))])\n",
    "means_y = pd.DataFrame(relative_means_y, columns=[\"M(y|x=x_i)\"]).T\n",
    "means_y.columns = x\n",
    "means_y\n"
   ]
  },
  {
   "cell_type": "markdown",
   "metadata": {},
   "source": [
    "Найдем функцию регресии (оценка несмещенности и эффективности):"
   ]
  },
  {
   "cell_type": "markdown",
   "metadata": {},
   "source": [
    "$\\overline{y}(x) = \\overline{M}(y) + \\overline{r}_{xy}\\frac{\\overline{\\sigma{y}}}{\\overline{\\sigma{x}}}(x - \\overline{M}(x)) = $\n",
    "$26.625 + 0.786 * \\frac{5.41}{5.81}(x - 22.5) = $\n",
    "$ \\frac{295077}{29050} + \\frac{212613}{290500}x $"
   ]
  },
  {
   "cell_type": "markdown",
   "metadata": {},
   "source": [
    "$\\delta_{x=10} = \\frac{17.378 - 15.0}{15.0} \\cdot 100\\% = 15\\%$\n",
    "\n",
    "$\\delta_{x=20} = \\frac{24.798 - 25.416667}{25.416667} \\cdot 100\\% = -2.43\\%$\n",
    "\n",
    "$\\delta_{x=30} = \\frac{32.118 - 31.538462}{31.538462} \\cdot 100\\% = 1.838\\%$"
   ]
  },
  {
   "cell_type": "markdown",
   "metadata": {},
   "source": [
    "#### График"
   ]
  },
  {
   "cell_type": "code",
   "execution_count": 52,
   "metadata": {},
   "outputs": [
    {
     "data": {
      "image/png": "[encoded data removed]",
      "text/plain": [
       "<Figure size 640x480 with 1 Axes>"
      ]
     },
     "metadata": {},
     "output_type": "display_data"
    }
   ],
   "source": [
    "plt.plot(x, relative_means_y, marker='X', color='blue', linestyle='--', label=r'Линейная регрессия y на x')\n",
    "\n",
    "# Подготовка данных для корреляционного поля\n",
    "correlation_data = []\n",
    "for i in range(len(x)):\n",
    "    for j in range(len(y)):\n",
    "        # Добавляем точки (x, y) по количеству случаев в таблице данных\n",
    "        correlation_data.extend([(x[i], y[j])] * data[i, j])\n",
    "\n",
    "correlation_data = np.array(correlation_data)\n",
    "plt.scatter(correlation_data[:, 0], correlation_data[:, 1], alpha=0.5, label='Точки корелляционного поля', color='red')\n",
    "\n",
    "\n",
    "a = 295077 / 29050\n",
    "b = 212613 / 290500\n",
    "x_line = range(min(x), max(x) + 1)\n",
    "y_line = [a + b * xi for xi in x_line]\n",
    "plt.plot(x_line, y_line, color='black', label=r'$\\overline{y}(x) = 10.158 + 0.732x$')\n",
    "plt.xlabel(r'$x^*_i$')\n",
    "plt.ylabel(r'$M(y|x=x_i)$')\n",
    "plt.legend()\n",
    "plt.show()"
   ]
  }
 ],
 "metadata": {
  "kernelspec": {
   "display_name": "Python 3",
   "language": "python",
   "name": "python3"
  },
  "language_info": {
   "codemirror_mode": {
    "name": "ipython",
    "version": 3
   },
   "file_extension": ".py",
   "mimetype": "text/x-python",
   "name": "python",
   "nbconvert_exporter": "python",
   "pygments_lexer": "ipython3",
   "version": "3.12.3"
  }
 },
 "nbformat": 4,
 "nbformat_minor": 2
}
