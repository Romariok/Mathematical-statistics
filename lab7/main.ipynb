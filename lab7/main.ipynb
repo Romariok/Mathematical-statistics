{
 "cells": [
  {
   "cell_type": "code",
   "execution_count": 31,
   "metadata": {},
   "outputs": [],
   "source": [
    "import numpy as np\n",
    "import pandas as pd\n",
    "import matplotlib.pyplot as plt"
   ]
  },
  {
   "cell_type": "code",
   "execution_count": 32,
   "metadata": {},
   "outputs": [
    {
     "name": "stdout",
     "output_type": "stream",
     "text": [
      "[ 9. 15. 22. 27. 34. 39. 48. 57. 66.]\n",
      "[ -6.9  -7.4 -11.7 -14.3 -19.3 -24.4 -36.6 -40.1 -41.1]\n"
     ]
    }
   ],
   "source": [
    "x= np.loadtxt(\"x.txt\",dtype=float)\n",
    "y= np.loadtxt(\"y.txt\",dtype=float)\n",
    "print(x)\n",
    "print(y)"
   ]
  },
  {
   "cell_type": "markdown",
   "metadata": {},
   "source": [
    "Обратная функция"
   ]
  },
  {
   "cell_type": "code",
   "execution_count": 33,
   "metadata": {},
   "outputs": [
    {
     "data": {
      "text/plain": [
       "[-0.145, -0.135, -0.085, -0.07, -0.052, -0.041, -0.027, -0.025, -0.024]"
      ]
     },
     "execution_count": 33,
     "metadata": {},
     "output_type": "execute_result"
    }
   ],
   "source": [
    "new_y = [round(1/i,3) for i in y]\n",
    "new_y"
   ]
  },
  {
   "cell_type": "code",
   "execution_count": 34,
   "metadata": {},
   "outputs": [
    {
     "name": "stdout",
     "output_type": "stream",
     "text": [
      "Sum(X) = 317.0\n",
      "Sum(Y) = -0.604\n",
      "Sum(X^2) = 14105.0\n",
      "Sum(X*Y) = -14.8\n"
     ]
    }
   ],
   "source": [
    "sumx = sum(x)\n",
    "sumy = sum(new_y)\n",
    "sumxx = sum(i**2 for i in x)\n",
    "sumxy = sum(x[i]*new_y[i] for i in range(len(x)))\n",
    "\n",
    "print(f\"Sum(X) = {sumx:}\")\n",
    "print(f\"Sum(Y) = {sumy:.3}\")\n",
    "print(f\"Sum(X^2) = {sumxx}\")\n",
    "print(f\"Sum(X*Y) = {sumxy:.3}\")"
   ]
  },
  {
   "cell_type": "code",
   "execution_count": 35,
   "metadata": {},
   "outputs": [
    {
     "name": "stdout",
     "output_type": "stream",
     "text": [
      "Z(-6.9) = -6.26 e = -0.645\n",
      "Z(-7.4) = -6.21 e = -1.19\n",
      "Z(-11.7) = -5.87 e = -5.83\n",
      "Z(-14.3) = -5.68 e = -8.62\n",
      "Z(-19.3) = -5.34 e = -14.0\n",
      "Z(-24.4) = -5.04 e = -19.4\n",
      "Z(-36.6) = -4.44 e = -32.2\n",
      "Z(-40.1) = -4.29 e = -35.8\n",
      "Z(-41.1) = -4.25 e = -36.8\n"
     ]
    }
   ],
   "source": [
    "def z(t):\n",
    "   return 1/(-0.14468 + 0.0022*t)\n",
    "\n",
    "for i in range(len(y)):\n",
    "    print(f\"Z({y[i]}) = {z(y[i]):.3} e = {y[i]-z(y[i]):.3}\")"
   ]
  },
  {
   "cell_type": "code",
   "execution_count": 36,
   "metadata": {},
   "outputs": [
    {
     "data": {
      "image/png": "[encoded data removed]",
      "text/plain": [
       "<Figure size 640x480 with 1 Axes>"
      ]
     },
     "metadata": {},
     "output_type": "display_data"
    }
   ],
   "source": [
    "# Plot the points\n",
    "plt.scatter(x, y, color='blue', label='Points')\n",
    "\n",
    "# Generate x values for the line\n",
    "x_line = np.linspace(min(x), max(x), 1000)\n",
    "\n",
    "# Calculate y values for the line using the function z\n",
    "y_line = [z(t) for t in x_line]\n",
    "\n",
    "# Plot the line\n",
    "plt.plot(x_line, y_line, color='red', label='Line')\n",
    "\n",
    "# Add labels and legend\n",
    "plt.xlabel('x')\n",
    "plt.ylabel('y')\n",
    "plt.legend()\n",
    "\n",
    "# Set y-axis limits\n",
    "plt.ylim(-50, 10)\n",
    "\n",
    "# Show the plot\n",
    "plt.show()"
   ]
  }
 ],
 "metadata": {
  "kernelspec": {
   "display_name": "Python 3",
   "language": "python",
   "name": "python3"
  },
  "language_info": {
   "codemirror_mode": {
    "name": "ipython",
    "version": 3
   },
   "file_extension": ".py",
   "mimetype": "text/x-python",
   "name": "python",
   "nbconvert_exporter": "python",
   "pygments_lexer": "ipython3",
   "version": "3.12.0"
  }
 },
 "nbformat": 4,
 "nbformat_minor": 2
}
