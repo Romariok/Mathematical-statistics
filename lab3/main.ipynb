{
 "cells": [
  {
   "cell_type": "code",
   "execution_count": 18,
   "metadata": {},
   "outputs": [],
   "source": [
    "from numpy import sqrt\n",
    "data = list(map(str,open(\"data.txt\",\"r\").read().split(\"\\n\")))\n",
    "x = list(map(float,data[0].split(\",\")))\n",
    "y = list(map(float,data[1].split(\",\")))\n",
    "nx = len(x)\n",
    "ny = len(y)\n",
    "mx = sum(x)/nx\n",
    "my = sum(y)/ny\n",
    "dx = (sum([(x-mx)**2 for x in x]))/(nx-1)\n",
    "dy = (sum([(y-my)**2 for y in y]))/(ny-1)"
   ]
  },
  {
   "cell_type": "code",
   "execution_count": 19,
   "metadata": {},
   "outputs": [
    {
     "name": "stdout",
     "output_type": "stream",
     "text": [
      "mx = 2.562\n",
      "my = 1.0736842105263158\n",
      "dx = 1.3993885714285716\n",
      "dy = 2.8933467836257316\n"
     ]
    }
   ],
   "source": [
    "print(f\"mx = {mx}\")\n",
    "print(f\"my = {my}\")\n",
    "print(f\"dx = {dx}\")\n",
    "print(f\"dy = {dy}\")"
   ]
  },
  {
   "cell_type": "code",
   "execution_count": 20,
   "metadata": {},
   "outputs": [
    {
     "name": "stdout",
     "output_type": "stream",
     "text": [
      "-2.8792491757426357\n"
     ]
    }
   ],
   "source": [
    "T = (mx-my)/(sqrt((nx-1)*dx+(ny-1)*dy))*sqrt((nx*ny*(nx+ny-2))/(nx+ny))\n",
    "print(T)"
   ]
  }
 ],
 "metadata": {
  "kernelspec": {
   "display_name": "Python 3",
   "language": "python",
   "name": "python3"
  },
  "language_info": {
   "codemirror_mode": {
    "name": "ipython",
    "version": 3
   },
   "file_extension": ".py",
   "mimetype": "text/x-python",
   "name": "python",
   "nbconvert_exporter": "python",
   "pygments_lexer": "ipython3",
   "version": "3.10.5"
  }
 },
 "nbformat": 4,
 "nbformat_minor": 2
}
