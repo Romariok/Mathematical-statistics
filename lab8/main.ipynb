{
 "cells": [
  {
   "cell_type": "code",
   "execution_count": 56,
   "metadata": {},
   "outputs": [],
   "source": [
    "from numpy import divide\n",
    "from math import log, exp\n",
    "from Approximation import Approximation\n"
   ]
  },
  {
   "cell_type": "markdown",
   "metadata": {},
   "source": [
    "Исходные данные\n"
   ]
  },
  {
   "cell_type": "code",
   "execution_count": 57,
   "metadata": {},
   "outputs": [],
   "source": [
    "X = [0.4, 0.6, 0.7, 0.9, 1.0, 1.2, 1.4, 1.5, 2.0, 3.0]\n",
    "Y = [2.36, 1.9, 1.75, 1.5, 1.39, 1.22, 1.09, 1.04, 0.82, 0.59]\n"
   ]
  },
  {
   "cell_type": "markdown",
   "metadata": {},
   "source": [
    "Первый вид функции:\n",
    "$y = \\frac{1}{a+bx}$\n"
   ]
  },
  {
   "cell_type": "markdown",
   "metadata": {},
   "source": [
    "Линеризация задачи: $z = \\frac{1}{y}$ и решаем задачу $z = a+bx$\n"
   ]
  },
  {
   "cell_type": "code",
   "execution_count": 58,
   "metadata": {},
   "outputs": [],
   "source": [
    "z1 = [divide(1, y) for y in Y]"
   ]
  },
  {
   "cell_type": "markdown",
   "metadata": {},
   "source": [
    "решаем как на вычмате\n"
   ]
  },
  {
   "cell_type": "code",
   "execution_count": 59,
   "metadata": {},
   "outputs": [
    {
     "name": "stdout",
     "output_type": "stream",
     "text": [
      "a1: 0.2296, b1: 0.4901\n"
     ]
    }
   ],
   "source": [
    "b1, a1 = Approximation([X, z1]).linear()\n",
    "print(f\"a1: {a1.round(4)}, b1: {b1.round(4)}\")\n"
   ]
  },
  {
   "cell_type": "markdown",
   "metadata": {},
   "source": [
    "Второй вид функции: $y = \\frac{x}{a+bx}$\n"
   ]
  },
  {
   "cell_type": "markdown",
   "metadata": {},
   "source": [
    "Линеризация задачи: $z = \\frac{1}{y}$, $z=\\frac{a}{x}+b$, $t = \\frac{1}{x}$, $z = at+b$\n"
   ]
  },
  {
   "cell_type": "code",
   "execution_count": 60,
   "metadata": {},
   "outputs": [
    {
     "name": "stdout",
     "output_type": "stream",
     "text": [
      "a2: -0.4791, b2: 1.3673\n"
     ]
    }
   ],
   "source": [
    "t1 = [divide(1, x) for x in X]\n",
    "a2, b2 = Approximation([t1, z1]).linear()\n",
    "print(f\"a2: {a2.round(4)}, b2: {b2.round(4)}\")\n"
   ]
  },
  {
   "cell_type": "markdown",
   "metadata": {},
   "source": [
    "Третий вид функции: $y = ax^b$\n"
   ]
  },
  {
   "cell_type": "markdown",
   "metadata": {},
   "source": [
    "Линеризация задачи: $z = \\ln{y} = \\ln{a}+b\\ln{x}$\n"
   ]
  },
  {
   "cell_type": "markdown",
   "metadata": {},
   "source": [
    "$t = \\ln{x}$\n"
   ]
  },
  {
   "cell_type": "markdown",
   "metadata": {},
   "source": [
    "$A = \\ln{a}$, $b = b$\n"
   ]
  },
  {
   "cell_type": "code",
   "execution_count": 61,
   "metadata": {},
   "outputs": [
    {
     "name": "stdout",
     "output_type": "stream",
     "text": [
      "a3: 1.3451, b3: -0.6914\n"
     ]
    }
   ],
   "source": [
    "t2 = [log(x) for x in X]\n",
    "z2 = [log(y) for y in Y]\n",
    "b3, A3 = Approximation([t2, z2]).linear()\n",
    "a3 = exp(A3)\n",
    "print(f\"a3: {round(a3,4)}, b3: {round(b3,4)}\")\n"
   ]
  },
  {
   "cell_type": "markdown",
   "metadata": {},
   "source": [
    "Четвертый вид: $y = ae^{bx}$\n"
   ]
  },
  {
   "cell_type": "markdown",
   "metadata": {},
   "source": [
    "Линеризация задачи: $z = \\ln{y} = \\ln{a}+bx$\n"
   ]
  },
  {
   "cell_type": "markdown",
   "metadata": {},
   "source": [
    "$A = \\ln{a}$, $b = b$\n"
   ]
  },
  {
   "cell_type": "code",
   "execution_count": 62,
   "metadata": {},
   "outputs": [
    {
     "name": "stdout",
     "output_type": "stream",
     "text": [
      "a4: 2.4642, b4: -0.5217\n"
     ]
    }
   ],
   "source": [
    "b4, A4 = Approximation([X, z2]).linear()\n",
    "a4 = exp(A4)\n",
    "print(f\"a4: {round(a4,4)}, b4: {round(b4,4)}\")\n"
   ]
  },
  {
   "cell_type": "markdown",
   "metadata": {},
   "source": [
    "Найдем наилучшую:"
   ]
  },
  {
   "cell_type": "code",
   "execution_count": 63,
   "metadata": {},
   "outputs": [
    {
     "name": "stdout",
     "output_type": "stream",
     "text": [
      "0.0003758750665242379\n",
      "12.898903827625203\n",
      "0.04038988231607725\n",
      "0.18205795797174007\n"
     ]
    }
   ],
   "source": [
    "S1 = sum([(Y[i]-1/(a1+b1*X[i]))**2 for i in range(len(X))])\n",
    "S2 = sum([(Y[i]-X[i]/(a2+b2*X[i]))**2 for i in range(len(X))])\n",
    "S3 = sum([(Y[i]-a3*X[i]**b3)**2 for i in range(len(X))])\n",
    "S4 = sum([(Y[i]-a4*exp(X[i]*b4))**2 for i in range(len(X))])\n",
    "print(S1)\n",
    "print(S2)\n",
    "print(S3)\n",
    "print(S4)"
   ]
  },
  {
   "cell_type": "markdown",
   "metadata": {},
   "source": [
    "Как видим, первый вид функции наилучшим образом отображает функцию регрессии"
   ]
  },
  {
   "cell_type": "markdown",
   "metadata": {},
   "source": [
    "Ссылка на графики: https://www.desmos.com/calculator/94yif302cv"
   ]
  }
 ],
 "metadata": {
  "kernelspec": {
   "display_name": "Python 3",
   "language": "python",
   "name": "python3"
  },
  "language_info": {
   "codemirror_mode": {
    "name": "ipython",
    "version": 3
   },
   "file_extension": ".py",
   "mimetype": "text/x-python",
   "name": "python",
   "nbconvert_exporter": "python",
   "pygments_lexer": "ipython3",
   "version": "3.10.5"
  }
 },
 "nbformat": 4,
 "nbformat_minor": 2
}
