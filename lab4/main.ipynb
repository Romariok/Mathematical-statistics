{
 "cells": [
  {
   "cell_type": "code",
   "execution_count": 3,
   "metadata": {},
   "outputs": [],
   "source": [
    "import numpy as np\n",
    "import pandas as pd\n",
    "import matplotlib.pyplot as plt"
   ]
  },
  {
   "cell_type": "code",
   "execution_count": 4,
   "metadata": {},
   "outputs": [
    {
     "name": "stdout",
     "output_type": "stream",
     "text": [
      "[1.17 3.41 1.71 1.42 0.93 3.19 2.95 3.3  3.45 3.88 0.56 1.53 3.65 3.49\n",
      " 3.79]\n",
      "[-0.7   2.49  1.45  1.2   0.78  1.59  1.09 -0.61  4.3  -1.37  0.47  0.79\n",
      " -1.31  3.65  0.87  2.92  0.45  3.47 -1.13]\n"
     ]
    }
   ],
   "source": [
    "x= np.loadtxt(\"x.txt\",dtype=float)\n",
    "y= np.loadtxt(\"y.txt\",dtype=float)\n",
    "print(x)\n",
    "print(y)"
   ]
  },
  {
   "cell_type": "code",
   "execution_count": 6,
   "metadata": {},
   "outputs": [
    {
     "name": "stdout",
     "output_type": "stream",
     "text": [
      "Длина x - 15, длина y - 19\n"
     ]
    }
   ],
   "source": [
    "n_x = len(x)\n",
    "n_y = len(y)\n",
    "print(f\"Длина x - {n_x}, длина y - {n_y}\")"
   ]
  },
  {
   "cell_type": "markdown",
   "metadata": {},
   "source": [
    "#### Оценки математических ожиданий: $\\={m} = \\cfrac{1}{n} \\sum_{i=1}^{n} x_i$"
   ]
  },
  {
   "cell_type": "code",
   "execution_count": 7,
   "metadata": {},
   "outputs": [
    {
     "name": "stdout",
     "output_type": "stream",
     "text": [
      "m_x = 2.562 m_y = 1.0736842105263156\n"
     ]
    }
   ],
   "source": [
    "m_x = 1/n_x*sum(i for i in x)\n",
    "m_y = 1/n_y*sum(i for i in y)\n",
    "print(f\"m_x = {m_x} m_y = {m_y}\")"
   ]
  },
  {
   "cell_type": "markdown",
   "metadata": {},
   "source": [
    "#### Оценки дисперсий: $\\={\\sigma}^2 = \\cfrac{1}{n - 1} \\sum_{i=1}^{n} (x_i - \\={m})^2$"
   ]
  },
  {
   "cell_type": "code",
   "execution_count": 8,
   "metadata": {},
   "outputs": [
    {
     "name": "stdout",
     "output_type": "stream",
     "text": [
      "sigma_x = 1.3993885714285714 sigma_y = 2.8933467836257307\n"
     ]
    }
   ],
   "source": [
    "sigma_x = 1/(n_x - 1)*sum((i - m_x)**2 for i in x)\n",
    "sigma_y = 1/(n_y - 1)*sum((i - m_y)**2 for i in y)\n",
    "print(f\"sigma_x = {sigma_x} sigma_y = {sigma_y}\")"
   ]
  },
  {
   "cell_type": "markdown",
   "metadata": {},
   "source": [
    "Выдвигаем нулевую и альтернативную гипотезу\n",
    "\n",
    "$H_0 : \\={\\sigma}_x^2 = \\={\\sigma}_y^2$\n",
    "\n",
    "$H_1 : \\={\\sigma}_x^2 != \\={\\sigma}_y^2$"
   ]
  },
  {
   "cell_type": "markdown",
   "metadata": {},
   "source": [
    "Определим критическое значение для статистического критерия. Посчитаем F по таблице распределения Фишера:\n",
    "\n",
    "$\\alpha = 0.05$\n",
    "\n",
    "$F = 2.29$\n",
    "\n",
    "Посчитаем наблюдаемое значение:\n",
    "\n",
    "$F = \\cfrac{D_y}{D_x}$"
   ]
  },
  {
   "cell_type": "code",
   "execution_count": 10,
   "metadata": {},
   "outputs": [
    {
     "name": "stdout",
     "output_type": "stream",
     "text": [
      "f = 2.06757925761252\n"
     ]
    }
   ],
   "source": [
    "f = sigma_y/sigma_x\n",
    "print(f\"f = {f} < F\")"
   ]
  },
  {
   "cell_type": "markdown",
   "metadata": {},
   "source": [
    "Гипотеза принимается"
   ]
  }
 ],
 "metadata": {
  "kernelspec": {
   "display_name": "Python 3",
   "language": "python",
   "name": "python3"
  },
  "language_info": {
   "codemirror_mode": {
    "name": "ipython",
    "version": 3
   },
   "file_extension": ".py",
   "mimetype": "text/x-python",
   "name": "python",
   "nbconvert_exporter": "python",
   "pygments_lexer": "ipython3",
   "version": "3.12.0"
  }
 },
 "nbformat": 4,
 "nbformat_minor": 2
}
